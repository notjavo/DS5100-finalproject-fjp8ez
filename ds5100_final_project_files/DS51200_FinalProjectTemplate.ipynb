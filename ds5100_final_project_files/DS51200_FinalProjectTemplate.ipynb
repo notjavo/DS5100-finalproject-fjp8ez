{
 "cells": [
  {
   "cell_type": "markdown",
   "id": "45762487-d33f-486d-8e38-2cdea04e3528",
   "metadata": {},
   "source": [
    "# Final Project Report\n",
    "\n",
    "* Class: DS 5100\n",
    "* Student Name: Javier Alonso\n",
    "* Student Net ID:fjp8ez\n",
    "* This URL: a URL to the notebook source of this document"
   ]
  },
  {
   "cell_type": "markdown",
   "id": "acf756c1-ecaa-41dc-b6ca-d566eb94560b",
   "metadata": {},
   "source": [
    "# Instructions\n",
    "\n",
    "Follow the instructions in the Final Project isntructions notebook and put evidence of your work in this notebook.\n",
    "\n",
    "Total points for each subsection under **Deliverables** and **Scenarios** are given in parentheses.\n",
    "\n",
    "Breakdowns of points within subsections are specified within subsection instructions as bulleted lists.\n",
    "\n",
    "This project is worth **50 points**."
   ]
  },
  {
   "cell_type": "markdown",
   "id": "89dc7a32-f682-4402-8c1e-b6ccdb3e0e39",
   "metadata": {},
   "source": [
    "# Deliverables"
   ]
  },
  {
   "cell_type": "markdown",
   "id": "d32cb273-9a40-4909-a7ce-51f6e4958d3c",
   "metadata": {},
   "source": [
    "## The Monte Carlo Module (10)\n",
    "\n",
    "- URL included, appropriately named (1).\n",
    "- Includes all three specified classes (3).\n",
    "- Includes at least all 12 specified methods (6; .5 each)."
   ]
  },
  {
   "cell_type": "markdown",
   "id": "f5f3b070-de9e-4de9-bfae-8974d184aa28",
   "metadata": {},
   "source": [
    "Put the URL to your GitHub repo here.\n",
    "\n",
    "Repo URL: https://github.com/notjavo/DS5100-finalproject-fjp8ez"
   ]
  },
  {
   "cell_type": "markdown",
   "id": "d7e60afa",
   "metadata": {},
   "source": [
    "## Monte Carlo Module Code"
   ]
  },
  {
   "cell_type": "markdown",
   "id": "a9815444",
   "metadata": {},
   "source": [
    "### Die Class\n",
    "```python\n",
    "import numpy as np\n",
    "import pandas as pd\n",
    "\n",
    "class Die:\n",
    "    \"\"\"\n",
    "    This class represents a die with N faces and W weights.\n",
    "    \"\"\"\n",
    "    def __init__(self, faces):\n",
    "        \"\"\"\n",
    "        This init function initializes the Die object with corresponding faces and weights.\n",
    "        \"\"\"\n",
    "\n",
    "        if not isinstance(faces, np.ndarray):\n",
    "            raise TypeError(\"Faces must be a NumPy array\")\n",
    "        \n",
    "        #Code below is checking if the elements in faces are unique\n",
    "        if len(faces) != len(set(faces)):\n",
    "            raise ValueError(\"Faces must contain unique values\")\n",
    "        \n",
    "        #Initialize the faces and weights\n",
    "        self.faces = faces\n",
    "        self.weights = np.ones(len(faces))\n",
    "\n",
    "        #Lastly, the code below is storing the faces and weights in a DataFrame using pandas\n",
    "        self.die_df = pd.DataFrame({'faces': self.faces, 'weights': self.weights})\n",
    "\n",
    "    def change_weight(self, face, weight):\n",
    "        '''\n",
    "        This method is used to change the weight of a single face on the die\n",
    "\n",
    "        Parameters:\n",
    "        face: The face whos weight needs to be changed\n",
    "        weight: The new weight of the face (signaled by a Float)\n",
    "        '''\n",
    "        #Code below checks to see if the face is valid\n",
    "        if face not in self.faces:\n",
    "            raise IndexError(\"Face is not found on the die\")\n",
    "        #Check if weight is a valid numer (int or float)\n",
    "        if not isinstance(weight, (int,float)) or weight <= 0:\n",
    "            raise TypeError(\"Weight is wrong type or weight must be a positive number\")\n",
    "        self.die_df.loc[self.die_df['faces'] == face, 'weights'] = weight\n",
    "\n",
    "\n",
    "    def roll(self, num_rolls=1):\n",
    "        '''\n",
    "        This method was created to roll the die one or more times\n",
    "\n",
    "        Parameters:\n",
    "        num_rolls(int): The number of times to roll the die\n",
    "\n",
    "        Returns:\n",
    "        List: A list of outcomes from the rolls '''\n",
    "\n",
    "        #Code first checks if num_rolls entered is a valid integer \n",
    "        if not isinstance(num_rolls,int) or num_rolls <= 0:\n",
    "            raise TypeError (\"Number of rolls given must be an integer and a positive number\")\n",
    "        \n",
    "        # Code below rolls the die using the weights specified \n",
    "        outcomes = np.random.choice(self.die_df['faces'], size=num_rolls, p=self.die_df['weights']/self.die_df['weights'].sum())\n",
    "        return outcomes.tolist()\n",
    "    \n",
    "\n",
    "    def show(self):\n",
    "        '''\n",
    "        This method shows the current state of the die\n",
    "\n",
    "        Returns:\n",
    "        Data Frame: A copy of the private DataFrame with faces and weights '''\n",
    "\n",
    "        return self.die_df.copy()\n",
    "```"
   ]
  },
  {
   "cell_type": "markdown",
   "id": "3483a1c2",
   "metadata": {},
   "source": [
    "### Game Class\n",
    "```python \n",
    "class Game:\n",
    "    ''' This class represents a game consisting of rolling one or more similar dice '''\n",
    "    def __init__(self,dice):\n",
    "        '''\n",
    "        Initializes the Game object with a list of Die objects.\n",
    "\n",
    "        Parameters:\n",
    "        dice (list): a list of already instantiated similar Die objects \n",
    "        '''\n",
    "        # Code below checks if the dice list contains only Die objects\n",
    "        if not all (isinstance(die,Die) for die in dice):\n",
    "            raise TypeError(\"All items present in the dice list must be Die objects\")\n",
    "        \n",
    "        #Code below initializes the list of dice\n",
    "        self.dice = dice\n",
    "\n",
    "        #Initialize a DataFrame to store the results of the most recent play\n",
    "        self._play_df = pd.DataFrame()\n",
    "\n",
    "    def play(self,num_rolls):\n",
    "        '''\n",
    "        Plays the game by rolling all of the dice a given number of time\n",
    "        Parameters:\n",
    "        num_rolls (int): The number of times the dice should be rolled\n",
    "        '''\n",
    "        #Code below checks to see if number of rolls is an integer, if not, raises a type error\n",
    "        if not isinstance(num_rolls,int) or num_rolls<=0:\n",
    "            raise TypeError(\"Number of rolls should be a positive integer\")\n",
    "        \n",
    "        #Roll each die and store the outcome\n",
    "        roll = {f'Die_{i}': die.roll(num_rolls) for i, die in enumerate(self.dice)}\n",
    "\n",
    "        #Convert results to a DataFrame in wide format\n",
    "        self._play_df = pd.DataFrame(roll)\n",
    "\n",
    "    def show(self, form='wide'):\n",
    "        '''\n",
    "        Shows the results of the most recent play \n",
    "        \n",
    "        parameters: \n",
    "        form (str): The format in which to return the results (input 'wide' or 'narrow')\n",
    "        ** Form is automatically set to wide but the user can change to narrow if needed**\n",
    "\n",
    "        Returns:\n",
    "        DataFrame: The results of the most recent play.\n",
    "\n",
    "        '''\n",
    "\n",
    "        #Code below validates the form parameter \n",
    "        if form not in ['wide','narrow']:\n",
    "            raise ValueError(\"'form must be in either 'wide' or 'narrow' format\")\n",
    "        \n",
    "        if form == 'wide':\n",
    "            return self._play_df\n",
    "        else:\n",
    "            return self._play_df.stack().reset_index(name='outcome').rename(columns={'level_0': 'roll_number', 'level_1': 'die_number'})\n",
    "```"
   ]
  },
  {
   "cell_type": "markdown",
   "id": "f6e074bf",
   "metadata": {},
   "source": [
    "### Analyzer Class\n",
    "```python\n",
    "class Analyzer:\n",
    "    \"\"\"\n",
    "    A class to analyze the results of a single game and compute various descriptive statistical properties about it.\n",
    "    \"\"\"\n",
    "    \n",
    "    def __init__(self, game):\n",
    "        \"\"\"\n",
    "        Initializes the Analyzer object with a Game object.\n",
    "        \n",
    "        Parameters:\n",
    "        game (Game): A game object whose results are to be analyzed.\n",
    "        \"\"\"\n",
    "        # Check if the game parameter is an instance of Game\n",
    "        if not isinstance(game, Game):\n",
    "            raise ValueError(\"The input parameter must be a Game object\")\n",
    "        \n",
    "        # Initialize the game object\n",
    "        self.game = game\n",
    "    \n",
    "    def jackpot(self):\n",
    "        \"\"\"\n",
    "        Computes how many times the game resulted in a jackpot.\n",
    "        \n",
    "        A jackpot is a result in which all faces are the same.\n",
    "        \n",
    "        Returns:\n",
    "        int: The number of jackpots.\n",
    "        \"\"\"\n",
    "        # Check if the game has been played\n",
    "        if self.game._play_df.empty:\n",
    "            return 0\n",
    "        \n",
    "        # Compute the number of jackpots\n",
    "        jackpots = (self.game._play_df.nunique(axis=1) == 1).sum()\n",
    "        return jackpots\n",
    "    \n",
    "    def face_counts(self):\n",
    "        \"\"\"\n",
    "        Computes how many times a given face is rolled in each event.\n",
    "        \n",
    "        Returns:\n",
    "        DataFrame: A DataFrame with the roll number as index, face values as columns, and count values in the cells.\n",
    "        \"\"\"\n",
    "        # Check if the game has been played\n",
    "        if self.game._play_df.empty:\n",
    "            return pd.DataFrame()\n",
    "        \n",
    "        # Compute the face counts per roll\n",
    "        face_counts = self.game._play_df.apply(pd.Series.value_counts, axis=1).fillna(0).astype(int)\n",
    "        face_counts.index.name = 'roll_number'\n",
    "        return face_counts\n",
    "    \n",
    "    def combo_counts(self):\n",
    "        \"\"\"\n",
    "        Computes the distinct combinations of faces rolled, along with their counts.\n",
    "        \n",
    "        Combinations are order-independent and may contain repetitions.\n",
    "        \n",
    "        Returns:\n",
    "        DataFrame: A DataFrame with a MultiIndex of distinct combinations and a column for the associated counts.\n",
    "        \"\"\"\n",
    "        # Check if the game has been played\n",
    "        if self.game._play_df.empty:\n",
    "            return pd.DataFrame()\n",
    "        \n",
    "        # Compute the combinations and their counts\n",
    "        combos = self.game._play_df.apply(lambda x: tuple(sorted(x)), axis=1).value_counts().reset_index()\n",
    "        combos.columns = ['combo', 'count']\n",
    "        combos.set_index('combo', inplace=True)\n",
    "        return combos\n",
    "    \n",
    "    def permutation_counts(self):\n",
    "        \"\"\"\n",
    "        Computes the distinct permutations of faces rolled, along with their counts.\n",
    "        \n",
    "        Permutations are order-dependent and may contain repetitions.\n",
    "        \n",
    "        Returns:\n",
    "        DataFrame: A DataFrame with a MultiIndex of distinct permutations and a column for the associated counts.\n",
    "        \"\"\"\n",
    "        # Check if the game has been played\n",
    "        if self.game._play_df.empty:\n",
    "            return pd.DataFrame()\n",
    "        \n",
    "        # Compute the permutations and their counts\n",
    "        perms = self.game._play_df.apply(tuple, axis=1).value_counts().reset_index()\n",
    "        perms.columns = ['permutation', 'count']\n",
    "        perms.set_index('permutation', inplace=True)\n",
    "        return perms\n",
    "```"
   ]
  },
  {
   "cell_type": "markdown",
   "id": "6377727a-8f0a-491e-9f1c-d9dc225edd35",
   "metadata": {},
   "source": [
    "## Unitest Module (2)\n",
    "\n",
    "Paste a copy of your test module below.\n",
    "\n",
    "NOTE: Paste as text, not as code. Use triple backticks to wrap your code blocks.\n",
    "\n",
    "- All methods have at least one test method (1).\n",
    "- Each method employs one of Unittest's Assert methods (1)."
   ]
  },
  {
   "cell_type": "markdown",
   "id": "14b878d8-258b-4cf2-ad88-b8ee90d43977",
   "metadata": {},
   "source": [
    "#### Unit Test Code Die Class\n",
    "```python \n",
    "import unittest\n",
    "import numpy as np\n",
    "import pandas as pd\n",
    "from montecarlo import Die, Game, Analyzer\n",
    "\n",
    "class TestDie(unittest.TestCase):\n",
    "    def setUp(self):\n",
    "        self.faces = np.array([1, 2, 3, 4, 5, 6])\n",
    "        self.die = Die(self.faces)\n",
    "\n",
    "    def test_initialization(self):\n",
    "        self.assertTrue(isinstance(self.die.faces, np.ndarray))\n",
    "        self.assertEqual(len(self.die.faces), len(self.faces))\n",
    "        self.assertEqual(len(self.die.weights), len(self.faces))\n",
    "        self.assertTrue((self.die.weights == 1).all())\n",
    "\n",
    "    def test_change_weight(self):\n",
    "        self.die.change_weight(1, 5)\n",
    "        self.assertEqual(self.die.die_df.loc[self.die.die_df['faces'] == 1, 'weights'].values[0], 5)\n",
    "\n",
    "    def test_roll(self):\n",
    "        rolls = self.die.roll(10)\n",
    "        self.assertEqual(len(rolls), 10)\n",
    "    \n",
    "    def test_show(self):\n",
    "        self.die.roll(10)\n",
    "        die_df = self.die.show()\n",
    "        self.assertIsInstance(die_df, pd.DataFrame)\n",
    "        expected_columns = ['faces', 'weights']\n",
    "        self.assertTrue(all(col in die_df.columns for col in expected_columns))\n",
    "        self.assertEqual(len(die_df), len(self.faces))"
   ]
  },
  {
   "cell_type": "markdown",
   "id": "480650bb",
   "metadata": {},
   "source": [
    "#### Unit Test Code for Game Class\n",
    "```python\n",
    "class TestGame(unittest.TestCase):\n",
    "    def setUp(self):\n",
    "        self.faces = np.array([1, 2, 3, 4, 5, 6])\n",
    "        self.dice = [Die(self.faces) for _ in range(5)]\n",
    "        self.game = Game(self.dice)\n",
    "\n",
    "    def test_initialization(self):\n",
    "        self.assertTrue(all(isinstance(die, Die) for die in self.game.dice))\n",
    "\n",
    "    def test_play(self):\n",
    "        self.game.play(10)\n",
    "        self.assertEqual(len(self.game._play_df), 10)\n",
    "\n",
    "    def test_show(self):\n",
    "        self.game.play(10)\n",
    "        df = self.game.show()\n",
    "        self.assertEqual(df.shape, (10, 5))\n",
    "```"
   ]
  },
  {
   "cell_type": "markdown",
   "id": "3b6437a4",
   "metadata": {},
   "source": [
    "#### Unit Test Code for Analyzer Class\n",
    "```python \n",
    "class TestAnalyzer(unittest.TestCase):\n",
    "    def setUp(self):\n",
    "        self.faces = np.array([1, 2, 3, 4, 5, 6])\n",
    "        self.dice = [Die(self.faces) for _ in range(5)]\n",
    "        self.game = Game(self.dice)\n",
    "        self.game.play(10)\n",
    "        self.analyzer = Analyzer(self.game)\n",
    "\n",
    "    def test_init(self):\n",
    "        with self.assertRaises(ValueError):\n",
    "            Analyzer(\"not_a_game_object\")\n",
    "\n",
    "    def test_jackpot(self):\n",
    "        self.game._play_df.iloc[0] = [1, 1, 1, 1, 1]\n",
    "        self.assertEqual(self.analyzer.jackpot(), 1)\n",
    "\n",
    "    def test_face_counts(self):\n",
    "        face_counts = self.analyzer.face_counts()\n",
    "        self.assertIsInstance(face_counts, pd.DataFrame)\n",
    "        self.assertEqual(face_counts.shape[0], 10)  # 10 rolls\n",
    "        self.assertEqual(face_counts.shape[1], len(self.faces))  \n",
    "        self.assertTrue((face_counts.sum(axis=1) == len(self.dice)).all())\n",
    "\n",
    "    def test_combo_counts(self):\n",
    "        combo_counts = self.analyzer.combo_counts()\n",
    "        self.assertGreater(len(combo_counts), 0)\n",
    "\n",
    "    def test_permutation_counts(self):\n",
    "        permutation_counts = self.analyzer.permutation_counts()\n",
    "        self.assertGreater(len(permutation_counts), 0)\n",
    "\n",
    "if __name__ == '__main__':\n",
    "    unittest.main()\n",
    "```"
   ]
  },
  {
   "cell_type": "markdown",
   "id": "3e058d03-29bc-408f-b36d-0605b4f4b8c0",
   "metadata": {
    "tags": []
   },
   "source": [
    "## Unittest Results (3)\n",
    "\n",
    "Put a copy of the results of running your tests from the command line here.\n",
    "\n",
    "Again, paste as text using triple backticks.\n",
    "\n",
    "- All 12 specified methods return OK (3; .25 each)."
   ]
  },
  {
   "cell_type": "markdown",
   "id": "54691fd0-836c-43c7-adc9-4a09d8aa9ab2",
   "metadata": {
    "tags": [],
    "vscode": {
     "languageId": "raw"
    }
   },
   "source": [
    "#Successful Unit Testing\n",
    "```bash\n",
    "python montecarlo_test.py\n",
    "You have officially installed the Monte Carlo package!\n",
    "you have offically installed the montecarlo package!\n",
    "............\n",
    "----------------------------------------------------------------------\n",
    "Ran 12 tests in 0.016s\n",
    "\n",
    "OK\n",
    "```\n"
   ]
  },
  {
   "cell_type": "markdown",
   "id": "d9ffe8c5-eb2f-4ad1-af76-a46550e4c7ac",
   "metadata": {},
   "source": [
    "## Import (1)\n",
    "\n",
    "Import your module here. This import should refer to the code in your package directory.\n",
    "\n",
    "- Module successuflly imported (1)."
   ]
  },
  {
   "cell_type": "code",
   "execution_count": 1,
   "id": "a05dffb3-e6d6-4f78-9df4-5abd0cf74ca9",
   "metadata": {
    "tags": []
   },
   "outputs": [
    {
     "name": "stdout",
     "output_type": "stream",
     "text": [
      "You have officially installed the Monte Carlo package!\n",
      "you have offically installed the montecarlo package!\n"
     ]
    }
   ],
   "source": [
    "# e.g. import montecarlo.montecarlo \n",
    "import montecarlo.montecarlo\n",
    "from montecarlo import Die, Game, Analyzer"
   ]
  },
  {
   "cell_type": "markdown",
   "id": "f30c4842-65b1-4556-98b6-3fe1a07e1371",
   "metadata": {},
   "source": [
    "## Help Docs (4)\n",
    "\n",
    "Show your docstring documentation by applying `help()` to your imported module.\n",
    "\n",
    "- All methods have a docstring (3; .25 each).\n",
    "- All classes have a docstring (1; .33 each)."
   ]
  },
  {
   "cell_type": "code",
   "execution_count": 2,
   "id": "bf4fbf1f-9885-471c-a0a6-e9ca90e160de",
   "metadata": {
    "tags": []
   },
   "outputs": [
    {
     "name": "stdout",
     "output_type": "stream",
     "text": [
      "Help on package montecarlo:\n",
      "\n",
      "NAME\n",
      "    montecarlo\n",
      "\n",
      "DESCRIPTION\n",
      "    Monte Carlo Simulation Package\n",
      "    WARNING: Must need Numpy and Pandas installed and loaded before using montecarlo\n",
      "\n",
      "    *import numpy as np*\n",
      "    *import pandas as pd*\n",
      "\n",
      "    This package includes the following modules:\n",
      "    - Die: A class to represent a die with faces and weights.\n",
      "    - Game: A class to handle multiple dice and play a game with them.\n",
      "    - Analyzer: A class to analyze the results of the game.\n",
      "\n",
      "    Example usage:\n",
      "        from montecarlo import Die, Game, Analyzer\n",
      "\n",
      "        # Create a die\n",
      "        die = Die(faces=np.array([1, 2, 3, 4, 5, 6]))\n",
      "\n",
      "        # Create a game with two dice\n",
      "        game = Game(dice=[die, die])\n",
      "\n",
      "        # Play the game\n",
      "        game.play(num_rolls=1000)\n",
      "\n",
      "        # Analyze the results\n",
      "        analyzer = Analyzer(game=game)\n",
      "        print(analyzer.face_counts())\n",
      "\n",
      "PACKAGE CONTENTS\n",
      "    montecarlo\n",
      "\n",
      "FILE\n",
      "    /Users/notjavo/miniconda3/lib/python3.12/site-packages/montecarlo/__init__.py\n",
      "\n",
      "\n"
     ]
    }
   ],
   "source": [
    "help(montecarlo)"
   ]
  },
  {
   "cell_type": "code",
   "execution_count": 3,
   "id": "a6344cc4",
   "metadata": {},
   "outputs": [
    {
     "name": "stdout",
     "output_type": "stream",
     "text": [
      "Help on class Die in module montecarlo.montecarlo:\n",
      "\n",
      "class Die(builtins.object)\n",
      " |  Die(faces)\n",
      " |\n",
      " |  This class represents a die with N faces and W weights.\n",
      " |\n",
      " |  Methods defined here:\n",
      " |\n",
      " |  __init__(self, faces)\n",
      " |      This init function initializes the Die object with corresponding faces and weights.\n",
      " |\n",
      " |  change_weight(self, face, weight)\n",
      " |      This method is used to change the weight of a single face on the die\n",
      " |\n",
      " |      Parameters:\n",
      " |      face: The face whos weight needs to be changed\n",
      " |      weight: The new weight of the face (signaled by a Float)\n",
      " |\n",
      " |  roll(self, num_rolls=1)\n",
      " |      This method was created to roll the die one or more times\n",
      " |\n",
      " |      Parameters:\n",
      " |      num_rolls(int): The number of times to roll the die\n",
      " |\n",
      " |      Returns:\n",
      " |      List: A list of outcomes from the rolls\n",
      " |\n",
      " |  show(self)\n",
      " |      This method shows the current state of the die\n",
      " |\n",
      " |      Returns:\n",
      " |      Data Frame: A copy of the private DataFrame with faces and weights\n",
      " |\n",
      " |  ----------------------------------------------------------------------\n",
      " |  Data descriptors defined here:\n",
      " |\n",
      " |  __dict__\n",
      " |      dictionary for instance variables\n",
      " |\n",
      " |  __weakref__\n",
      " |      list of weak references to the object\n",
      "\n"
     ]
    }
   ],
   "source": [
    "help(Die)"
   ]
  },
  {
   "cell_type": "code",
   "execution_count": 4,
   "id": "140f9bab",
   "metadata": {},
   "outputs": [
    {
     "name": "stdout",
     "output_type": "stream",
     "text": [
      "Help on class Game in module montecarlo.montecarlo:\n",
      "\n",
      "class Game(builtins.object)\n",
      " |  Game(dice)\n",
      " |\n",
      " |  This class represents a game consisting of rolling one or more similar dice\n",
      " |\n",
      " |  Methods defined here:\n",
      " |\n",
      " |  __init__(self, dice)\n",
      " |      Initializes the Game object with a list of Die objects.\n",
      " |\n",
      " |      Parameters:\n",
      " |      dice (list): a list of already instantiated similar Die objects\n",
      " |\n",
      " |  play(self, num_rolls)\n",
      " |      Plays the game by rolling all of the dice a given number of times\n",
      " |      Parameters:\n",
      " |      num_rolls (int): The number of times the dice should be rolled\n",
      " |\n",
      " |  show(self, form='wide')\n",
      " |      Shows the results of the most recent play\n",
      " |\n",
      " |      parameters:\n",
      " |      form (str): The format in which to return the results (input 'wide' or 'narrow')\n",
      " |      ** Form is automatically set to wide but the user can change to narrow if needed**\n",
      " |\n",
      " |      Returns:\n",
      " |      DataFrame: The results of the most recent play.\n",
      " |\n",
      " |  ----------------------------------------------------------------------\n",
      " |  Data descriptors defined here:\n",
      " |\n",
      " |  __dict__\n",
      " |      dictionary for instance variables\n",
      " |\n",
      " |  __weakref__\n",
      " |      list of weak references to the object\n",
      "\n"
     ]
    }
   ],
   "source": [
    "help(Game)\n"
   ]
  },
  {
   "cell_type": "code",
   "execution_count": 5,
   "id": "eb953ceb",
   "metadata": {},
   "outputs": [
    {
     "name": "stdout",
     "output_type": "stream",
     "text": [
      "Help on class Analyzer in module montecarlo.montecarlo:\n",
      "\n",
      "class Analyzer(builtins.object)\n",
      " |  Analyzer(game)\n",
      " |\n",
      " |  A class to analyze the results of a single game and compute various descriptive statistical properties about it.\n",
      " |\n",
      " |  Methods defined here:\n",
      " |\n",
      " |  __init__(self, game)\n",
      " |      Initializes the Analyzer object with a Game object.\n",
      " |\n",
      " |      Parameters:\n",
      " |      game (Game): A game object whose results are to be analyzed.\n",
      " |\n",
      " |  combo_counts(self)\n",
      " |      Computes the distinct combinations of faces rolled, along with their counts.\n",
      " |\n",
      " |      Combinations are order-independent and may contain repetitions.\n",
      " |\n",
      " |      Returns:\n",
      " |      DataFrame: A DataFrame with a MultiIndex of distinct combinations and a column for the associated counts.\n",
      " |\n",
      " |  face_counts(self)\n",
      " |      Computes how many times a given face is rolled in each event.\n",
      " |\n",
      " |      Returns:\n",
      " |      DataFrame: A DataFrame with the roll number as index, face values as columns, and count values in the cells.\n",
      " |\n",
      " |  jackpot(self)\n",
      " |      Computes how many times the game resulted in a jackpot.\n",
      " |\n",
      " |      A jackpot is a result in which all faces are the same.\n",
      " |\n",
      " |      Returns:\n",
      " |      int: The number of jackpots.\n",
      " |\n",
      " |  permutation_counts(self)\n",
      " |      Computes the distinct permutations of faces rolled, along with their counts.\n",
      " |\n",
      " |      Permutations are order-dependent and may contain repetitions.\n",
      " |\n",
      " |      Returns:\n",
      " |      DataFrame: A DataFrame with a MultiIndex of distinct permutations and a column for the associated counts.\n",
      " |\n",
      " |  ----------------------------------------------------------------------\n",
      " |  Data descriptors defined here:\n",
      " |\n",
      " |  __dict__\n",
      " |      dictionary for instance variables\n",
      " |\n",
      " |  __weakref__\n",
      " |      list of weak references to the object\n",
      "\n"
     ]
    }
   ],
   "source": [
    "help(Analyzer)"
   ]
  },
  {
   "cell_type": "markdown",
   "id": "a9defa84-b395-4966-bd1c-5c6c2bb7ed68",
   "metadata": {},
   "source": [
    "## `README.md` File (3)\n",
    "\n",
    "Provide link to the README.md file of your project's repo.\n",
    "\n",
    "- Metadata section or info present (1).\n",
    "- Synopsis section showing how each class is called (1). (All must be included.)\n",
    "- API section listing all classes and methods (1). (All must be included.)"
   ]
  },
  {
   "cell_type": "markdown",
   "id": "ee090b33-d593-48a0-bf35-e739cea0942c",
   "metadata": {},
   "source": [
    "URL: https://github.com/notjavo/DS5100-finalproject-fjp8ez/blob/main/README.md"
   ]
  },
  {
   "cell_type": "markdown",
   "id": "108604c8-8827-42ef-ab59-6b25428fc0ca",
   "metadata": {},
   "source": [
    "## Successful installation (2)\n",
    "\n",
    "Put a screenshot or paste a copy of a terminal session where you successfully install your module with pip.\n",
    "\n",
    "If pasting text, use a preformatted text block to show the results.\n",
    "\n",
    "- Installed with `pip` (1).\n",
    "- Successfully installed message appears (1)."
   ]
  },
  {
   "cell_type": "markdown",
   "id": "1278db6a-aa53-4e5c-a749-93a87ab239e0",
   "metadata": {},
   "source": [
    "# Instalation Code\n",
    "```bash\n",
    "pip install .\n",
    "Processing /Users/notjavo/Documents/MSDS/DS5100/DS5100-finalproject-fjp8ez\n",
    "  Preparing metadata (setup.py) ... done\n",
    "Building wheels for collected packages: Montecarlo\n",
    "  Building wheel for Montecarlo (setup.py) ... done\n",
    "  Created wheel for Montecarlo: filename=Montecarlo-1.0.0-py3-none-any.whl size=4973 sha256=b92d4c88b952ac71aec4641063f6a8e82f0fd7dec822e534160d5028900a843c\n",
    "  Stored in directory: /Users/notjavo/Library/Caches/pip/wheels/0c/3d/19/a59e26e916ab81e2118cce77a4858ddb083a33f4f994740506\n",
    "Successfully built Montecarlo\n",
    "Installing collected packages: Montecarlo\n",
    "Successfully installed Montecarlo-1.0.0\n",
    "```"
   ]
  },
  {
   "cell_type": "markdown",
   "id": "7c44695d-d1b3-4edf-9f94-e64d7446f199",
   "metadata": {},
   "source": [
    "# Scenarios\n",
    "\n",
    "Use code blocks to perform the tasks for each scenario.\n",
    "\n",
    "Be sure the outputs are visible before submitting."
   ]
  },
  {
   "cell_type": "markdown",
   "id": "e2479eae-6fc9-44cd-b8d7-9b22cb501f2a",
   "metadata": {
    "jp-MarkdownHeadingCollapsed": true,
    "tags": []
   },
   "source": [
    "## Scenario 1: A 2-headed Coin (9)\n",
    "\n",
    "Task 1. Create a fair coin (with faces $H$ and $T$) and one unfair coin in which one of the faces has a weight of $5$ and the others $1$.\n",
    "\n",
    "- Fair coin created (1).\n",
    "- Unfair coin created with weight as specified (1)."
   ]
  },
  {
   "cell_type": "code",
   "execution_count": 6,
   "id": "13145a1d",
   "metadata": {},
   "outputs": [],
   "source": [
    "import numpy as np\n",
    "import pandas as pd"
   ]
  },
  {
   "cell_type": "code",
   "execution_count": 7,
   "id": "55ce498e-c75f-4425-9e3e-b635bd6cd9e1",
   "metadata": {},
   "outputs": [],
   "source": [
    "#Creating Fair Coin\n",
    "fair_coin_faces = np.array(['H','T'])\n",
    "fair_coin = Die(faces=fair_coin_faces)\n",
    "\n",
    "#Creating Unfair Coin\n",
    "unfair_coin_faces = np.array(['H','T'])\n",
    "unfair_coin = Die(faces=unfair_coin_faces)\n",
    "unfair_coin.change_weight(face='H', weight=5)"
   ]
  },
  {
   "cell_type": "code",
   "execution_count": 8,
   "id": "52fae3e5",
   "metadata": {},
   "outputs": [
    {
     "name": "stdout",
     "output_type": "stream",
     "text": [
      "  faces  weights\n",
      "0     H      1.0\n",
      "1     T      1.0\n"
     ]
    }
   ],
   "source": [
    "print(fair_coin.die_df)"
   ]
  },
  {
   "cell_type": "code",
   "execution_count": 9,
   "id": "7d302347",
   "metadata": {},
   "outputs": [
    {
     "name": "stdout",
     "output_type": "stream",
     "text": [
      "  faces  weights\n",
      "0     H      5.0\n",
      "1     T      1.0\n"
     ]
    }
   ],
   "source": [
    "print(unfair_coin.die_df)"
   ]
  },
  {
   "cell_type": "markdown",
   "id": "02b272ab-99da-4b6e-ac2a-555b73e09c07",
   "metadata": {},
   "source": [
    "Task 2. Play a game of $1000$ flips with two fair dice.\n",
    "\n",
    "- Play method called correclty and without error (1)."
   ]
  },
  {
   "cell_type": "code",
   "execution_count": 10,
   "id": "65c92601-d32d-4326-b215-74953aee27f2",
   "metadata": {},
   "outputs": [
    {
     "name": "stdout",
     "output_type": "stream",
     "text": [
      "             H  T\n",
      "roll_number      \n",
      "0            2  0\n",
      "1            1  1\n",
      "2            1  1\n",
      "3            2  0\n",
      "4            1  1\n",
      "...         .. ..\n",
      "995          1  1\n",
      "996          0  2\n",
      "997          0  2\n",
      "998          0  2\n",
      "999          0  2\n",
      "\n",
      "[1000 rows x 2 columns]\n"
     ]
    }
   ],
   "source": [
    "fair_game = Game(dice=[fair_coin, fair_coin])\n",
    "fair_game.play(num_rolls=1000)\n",
    "#Display results of game with analyzer\n",
    "fair_game_results = Analyzer(fair_game)\n",
    "print(fair_game_results.face_counts())"
   ]
  },
  {
   "cell_type": "markdown",
   "id": "7d9c3dc8-22c1-4cae-81fb-d68d774a05d1",
   "metadata": {},
   "source": [
    "Task 3. Play another game (using a new Game object) of $1000$ flips, this time using two unfair dice and one fair die. For the second unfair die, you can use the same die object twice in the list of dice you pass to the Game object.\n",
    "\n",
    "- New game object created (1).\n",
    "- Play method called correclty and without error (1)."
   ]
  },
  {
   "cell_type": "code",
   "execution_count": 11,
   "id": "d4098bed-1eb2-4084-8d5e-9fda07c3be43",
   "metadata": {},
   "outputs": [
    {
     "name": "stdout",
     "output_type": "stream",
     "text": [
      "             H  T\n",
      "roll_number      \n",
      "0            2  0\n",
      "1            1  1\n",
      "2            2  0\n",
      "3            1  1\n",
      "4            2  0\n",
      "...         .. ..\n",
      "995          2  0\n",
      "996          2  0\n",
      "997          2  0\n",
      "998          1  1\n",
      "999          2  0\n",
      "\n",
      "[1000 rows x 2 columns]\n"
     ]
    }
   ],
   "source": [
    "unfair_game = Game(dice=[unfair_coin,unfair_coin])\n",
    "unfair_game.play(num_rolls=1000)\n",
    "#Next block displays the results\n",
    "unfair_game_results = Analyzer(unfair_game)\n",
    "print(unfair_game_results.face_counts())"
   ]
  },
  {
   "cell_type": "markdown",
   "id": "f690ebfc-fe71-4eb2-976d-7ac80ca6c23f",
   "metadata": {},
   "source": [
    "Task 4. For each game, use an Analyzer object to determine the raw frequency of jackpots — i.e. getting either all $H$s or all $T$s.\n",
    "\n",
    "- Analyzer objecs instantiated for both games (1).\n",
    "- Raw frequencies reported for both (1)."
   ]
  },
  {
   "cell_type": "code",
   "execution_count": 12,
   "id": "b26b8b7e-3be7-4476-a9a4-37d97536729e",
   "metadata": {},
   "outputs": [
    {
     "name": "stdout",
     "output_type": "stream",
     "text": [
      "480\n"
     ]
    }
   ],
   "source": [
    "fair_jackpots = fair_game_results.jackpot()\n",
    "print(fair_jackpots)\n",
    "\n"
   ]
  },
  {
   "cell_type": "code",
   "execution_count": 13,
   "id": "931fdcf7",
   "metadata": {},
   "outputs": [
    {
     "name": "stdout",
     "output_type": "stream",
     "text": [
      "734\n"
     ]
    }
   ],
   "source": [
    "unfair_jackpots = unfair_game_results.jackpot()\n",
    "print(unfair_jackpots)"
   ]
  },
  {
   "cell_type": "markdown",
   "id": "b73d233c-445e-40cd-8858-0c5e1f097105",
   "metadata": {},
   "source": [
    "Task 5. For each analyzer, compute relative frequency as the number of jackpots over the total number of rolls.\n",
    "\n",
    "- Both relative frequencies computed (1)."
   ]
  },
  {
   "cell_type": "code",
   "execution_count": 14,
   "id": "9a96b31b-1b9d-496e-be3e-4bf83c45ec3a",
   "metadata": {},
   "outputs": [],
   "source": [
    "total_rolls = 1000\n",
    "fair_freq = fair_jackpots / total_rolls\n",
    "unfair_freq = unfair_jackpots / total_rolls"
   ]
  },
  {
   "cell_type": "code",
   "execution_count": 15,
   "id": "d13ec2ca",
   "metadata": {},
   "outputs": [
    {
     "name": "stdout",
     "output_type": "stream",
     "text": [
      "0.48\n"
     ]
    }
   ],
   "source": [
    "print(fair_freq)"
   ]
  },
  {
   "cell_type": "code",
   "execution_count": 16,
   "id": "999286e2",
   "metadata": {},
   "outputs": [
    {
     "name": "stdout",
     "output_type": "stream",
     "text": [
      "0.734\n"
     ]
    }
   ],
   "source": [
    "print(unfair_freq)"
   ]
  },
  {
   "cell_type": "markdown",
   "id": "a6e1e734-7f5c-4721-8ba4-2f3a424cf984",
   "metadata": {},
   "source": [
    "Task 6. Show your results, comparing the two relative frequencies, in a simple bar chart.\n",
    "\n",
    "- Bar chart plotted and correct (1)."
   ]
  },
  {
   "cell_type": "code",
   "execution_count": 17,
   "id": "473fa67c-aa53-4aa3-a0b7-e8772b3f6ed3",
   "metadata": {},
   "outputs": [
    {
     "data": {
      "image/png": "[encoded data removed]",
      "text/plain": [
       "<Figure size 640x480 with 1 Axes>"
      ]
     },
     "metadata": {},
     "output_type": "display_data"
    }
   ],
   "source": [
    "import matplotlib.pyplot as plt\n",
    "\n",
    "games = ['fair_game', 'unfair_game']\n",
    "frequencies = [fair_freq,unfair_freq]\n",
    "\n",
    "#bar chart code\n",
    "plt.bar(games,frequencies,color='blue')\n",
    "plt.title('Relative Frequency of Jackpots')\n",
    "plt.xlabel('Game')\n",
    "plt.ylabel('Relative Frquency')\n",
    "plt.show()"
   ]
  },
  {
   "cell_type": "markdown",
   "id": "725cfa5b-e4b7-47c9-86aa-8d9e1fe6c8c7",
   "metadata": {},
   "source": [
    "## Scenario 2: A 6-sided Die (9)\n",
    "\n",
    "Task 1. Create three dice, each with six sides having the faces 1 through 6.\n",
    "\n",
    "- Three die objects created (1)."
   ]
  },
  {
   "cell_type": "code",
   "execution_count": 18,
   "id": "6a8bc611-325a-4e05-88d5-980e0a2cf7c5",
   "metadata": {},
   "outputs": [],
   "source": [
    "faces = np.array([1,2,3,4,5,6])\n",
    "die1 = Die(faces=faces)\n",
    "die2 = Die(faces=faces)\n",
    "die3 = Die(faces=faces)\n",
    "#print(die1.show())"
   ]
  },
  {
   "cell_type": "markdown",
   "id": "2ed3ad26-fbe9-43bd-9ad7-f683a4191d12",
   "metadata": {},
   "source": [
    "Task 2. Convert one of the dice to an unfair one by weighting the face $6$ five times more than the other weights (i.e. it has weight of 5 and the others a weight of 1 each).\n",
    "\n",
    "- Unfair die created with proper call to weight change method (1)."
   ]
  },
  {
   "cell_type": "code",
   "execution_count": 19,
   "id": "e33dd18f-7f90-456d-a680-61c08a328e21",
   "metadata": {},
   "outputs": [
    {
     "name": "stdout",
     "output_type": "stream",
     "text": [
      "   faces  weights\n",
      "0      1      1.0\n",
      "1      2      1.0\n",
      "2      3      1.0\n",
      "3      4      1.0\n",
      "4      5      1.0\n",
      "5      6      5.0\n"
     ]
    }
   ],
   "source": [
    "die2.change_weight(6,5)\n",
    "print(die2.show())"
   ]
  },
  {
   "cell_type": "markdown",
   "id": "7f6c062a-4c5b-45b9-96b8-76a0354c7e47",
   "metadata": {},
   "source": [
    "Task 3. Convert another of the dice to be unfair by weighting the face $1$ five times more than the others.\n",
    "\n",
    "- Unfair die created with proper call to weight change method (1)."
   ]
  },
  {
   "cell_type": "code",
   "execution_count": 20,
   "id": "01133a4e-6b06-4246-8d90-8e6d6995be51",
   "metadata": {},
   "outputs": [
    {
     "name": "stdout",
     "output_type": "stream",
     "text": [
      "   faces  weights\n",
      "0      1      5.0\n",
      "1      2      1.0\n",
      "2      3      1.0\n",
      "3      4      1.0\n",
      "4      5      1.0\n",
      "5      6      1.0\n"
     ]
    }
   ],
   "source": [
    "die3.change_weight(1,5)\n",
    "print(die3.show())"
   ]
  },
  {
   "cell_type": "markdown",
   "id": "f0ed31cb-0a3c-4eb2-b85e-6ed6b2eb6e58",
   "metadata": {},
   "source": [
    "Task 4. Play a game of $10000$ rolls with $5$ fair dice.\n",
    "\n",
    "- Game class properly instantiated (1). \n",
    "- Play method called properly (1)."
   ]
  },
  {
   "cell_type": "code",
   "execution_count": 21,
   "id": "e92395a4-9ed8-4cb0-8c85-38768a784ffc",
   "metadata": {},
   "outputs": [
    {
     "name": "stdout",
     "output_type": "stream",
     "text": [
      "      Die_0  Die_1  Die_2  Die_3  Die_4\n",
      "0         5      4      1      3      4\n",
      "1         5      1      1      4      1\n",
      "2         2      5      6      6      6\n",
      "3         1      6      1      3      1\n",
      "4         1      5      2      2      5\n",
      "...     ...    ...    ...    ...    ...\n",
      "9995      1      3      4      4      6\n",
      "9996      3      5      5      6      3\n",
      "9997      2      6      4      3      6\n",
      "9998      5      3      6      2      2\n",
      "9999      2      6      4      3      4\n",
      "\n",
      "[10000 rows x 5 columns]\n"
     ]
    }
   ],
   "source": [
    "die11=Die(faces=faces)\n",
    "die12=Die(faces=faces)\n",
    "die13=Die(faces=faces)\n",
    "die14=Die(faces=faces)\n",
    "die15=Die(faces=faces)\n",
    "\n",
    "new_game = Game(dice=[die11,die12,die13,die14,die15])\n",
    "\n",
    "new_game.play(num_rolls=10000)\n",
    "new_game_results = new_game.show('wide')\n",
    "print(new_game_results)"
   ]
  },
  {
   "cell_type": "markdown",
   "id": "7814b402-46a4-40e5-8141-20e05c3e646b",
   "metadata": {},
   "source": [
    "Task 5. Play another game of $10000$ rolls, this time with $2$ unfair dice, one as defined in steps #2 and #3 respectively, and $3$ fair dice.\n",
    "\n",
    "- Game class properly instantiated (1). \n",
    "- Play method called properly (1)."
   ]
  },
  {
   "cell_type": "code",
   "execution_count": 22,
   "id": "7cd58fba-b2a5-4d5d-bc6d-2a7a68d18c4f",
   "metadata": {},
   "outputs": [
    {
     "name": "stdout",
     "output_type": "stream",
     "text": [
      "      Die_0  Die_1  Die_2  Die_3  Die_4\n",
      "0         4      3      6      1      1\n",
      "1         4      2      3      3      1\n",
      "2         3      3      4      3      1\n",
      "3         6      5      3      4      3\n",
      "4         3      5      5      2      5\n",
      "...     ...    ...    ...    ...    ...\n",
      "9995      4      5      5      2      6\n",
      "9996      5      5      2      3      2\n",
      "9997      5      5      2      1      1\n",
      "9998      3      6      2      6      1\n",
      "9999      6      3      4      6      1\n",
      "\n",
      "[10000 rows x 5 columns]\n"
     ]
    }
   ],
   "source": [
    "newest_game = Game(dice=[die11,die12,die13,die2,die3])\n",
    "newest_game.play(num_rolls=10000)\n",
    "\n",
    "newest_game_results = newest_game.show('wide')\n",
    "print(newest_game_results)"
   ]
  },
  {
   "cell_type": "markdown",
   "id": "7b6cd372-2bb8-4df8-ade1-8f48bc300955",
   "metadata": {},
   "source": [
    "Task 6. For each game, use an Analyzer object to determine the relative frequency of jackpots and show your results, comparing the two relative frequencies, in a simple bar chart.\n",
    "\n",
    "- Jackpot methods called (1).\n",
    "- Graph produced (1)."
   ]
  },
  {
   "cell_type": "code",
   "execution_count": 23,
   "id": "bbdcf695-8937-406e-9b53-aa0b9ee3c59a",
   "metadata": {},
   "outputs": [
    {
     "name": "stdout",
     "output_type": "stream",
     "text": [
      "0.005\n"
     ]
    }
   ],
   "source": [
    "# Calculating jackpot for all fair game\n",
    "new_game_analyzer = Analyzer(new_game)\n",
    "new_game_jackpots = new_game_analyzer.jackpot()\n",
    "total_rolls_new_game = 10000\n",
    "relative_freq_new_game = new_game_jackpots / total_rolls\n",
    "print(relative_freq_new_game)"
   ]
  },
  {
   "cell_type": "code",
   "execution_count": 24,
   "id": "efab70eb",
   "metadata": {},
   "outputs": [
    {
     "name": "stdout",
     "output_type": "stream",
     "text": [
      "0.0005\n"
     ]
    }
   ],
   "source": [
    "#Calculating jackpots for unfair dice rolls\n",
    "newest_game_analyzer = Analyzer(newest_game)\n",
    "newest_game_jackpots = newest_game_analyzer.jackpot()\n",
    "total_rolls_newest_game = 10000\n",
    "relative_freq_newest_game = new_game_jackpots / total_rolls_newest_game\n",
    "print(relative_freq_newest_game)"
   ]
  },
  {
   "cell_type": "code",
   "execution_count": 25,
   "id": "a20ccf6c",
   "metadata": {},
   "outputs": [
    {
     "data": {
      "image/png": "[encoded data removed]",
      "text/plain": [
       "<Figure size 640x480 with 1 Axes>"
      ]
     },
     "metadata": {},
     "output_type": "display_data"
    }
   ],
   "source": [
    "games_df = ['newest_game', 'new_game']\n",
    "frequencies_df = ['relative_freq_newest_game','relative_freq_new_game']\n",
    "\n",
    "plt.bar(games_df, frequencies_df, color='blue')\n",
    "plt.title('Relative Frequencies of Jackpots for 10,000 Die Rolls')\n",
    "plt.xlabel('Game Type')\n",
    "plt.ylabel('Relative Frequency')\n",
    "plt.show()"
   ]
  },
  {
   "cell_type": "markdown",
   "id": "9f04e9be-8fcf-4ea4-a391-6614608285f8",
   "metadata": {},
   "source": [
    "## Scenario 3: Letters of the Alphabet (7)\n",
    "\n",
    "Task 1. Create a \"die\" of letters from $A$ to $Z$ with weights based on their frequency of usage as found in the data file `english_letters.txt`. Use the frequencies (i.e. raw counts) as weights.\n",
    "\n",
    "- Die correctly instantiated with source file data (1).\n",
    "- Weights properly applied using weight setting method (1)."
   ]
  },
  {
   "cell_type": "code",
   "execution_count": 26,
   "id": "b0ceb771-3cdf-4d8f-8c2c-020806bbb909",
   "metadata": {},
   "outputs": [
    {
     "data": {
      "text/html": [
       "<div>\n",
       "<style scoped>\n",
       "    .dataframe tbody tr th:only-of-type {\n",
       "        vertical-align: middle;\n",
       "    }\n",
       "\n",
       "    .dataframe tbody tr th {\n",
       "        vertical-align: top;\n",
       "    }\n",
       "\n",
       "    .dataframe thead th {\n",
       "        text-align: right;\n",
       "    }\n",
       "</style>\n",
       "<table border=\"1\" class=\"dataframe\">\n",
       "  <thead>\n",
       "    <tr style=\"text-align: right;\">\n",
       "      <th></th>\n",
       "      <th>Letter</th>\n",
       "      <th>Frequency</th>\n",
       "    </tr>\n",
       "  </thead>\n",
       "  <tbody>\n",
       "    <tr>\n",
       "      <th>0</th>\n",
       "      <td>E</td>\n",
       "      <td>529117365</td>\n",
       "    </tr>\n",
       "    <tr>\n",
       "      <th>1</th>\n",
       "      <td>T</td>\n",
       "      <td>390965105</td>\n",
       "    </tr>\n",
       "    <tr>\n",
       "      <th>2</th>\n",
       "      <td>A</td>\n",
       "      <td>374061888</td>\n",
       "    </tr>\n",
       "    <tr>\n",
       "      <th>3</th>\n",
       "      <td>O</td>\n",
       "      <td>326627740</td>\n",
       "    </tr>\n",
       "    <tr>\n",
       "      <th>4</th>\n",
       "      <td>I</td>\n",
       "      <td>320410057</td>\n",
       "    </tr>\n",
       "    <tr>\n",
       "      <th>5</th>\n",
       "      <td>N</td>\n",
       "      <td>313720540</td>\n",
       "    </tr>\n",
       "    <tr>\n",
       "      <th>6</th>\n",
       "      <td>S</td>\n",
       "      <td>294300210</td>\n",
       "    </tr>\n",
       "    <tr>\n",
       "      <th>7</th>\n",
       "      <td>R</td>\n",
       "      <td>277000841</td>\n",
       "    </tr>\n",
       "    <tr>\n",
       "      <th>8</th>\n",
       "      <td>H</td>\n",
       "      <td>216768975</td>\n",
       "    </tr>\n",
       "    <tr>\n",
       "      <th>9</th>\n",
       "      <td>L</td>\n",
       "      <td>183996130</td>\n",
       "    </tr>\n",
       "    <tr>\n",
       "      <th>10</th>\n",
       "      <td>D</td>\n",
       "      <td>169330528</td>\n",
       "    </tr>\n",
       "    <tr>\n",
       "      <th>11</th>\n",
       "      <td>C</td>\n",
       "      <td>138416451</td>\n",
       "    </tr>\n",
       "    <tr>\n",
       "      <th>12</th>\n",
       "      <td>U</td>\n",
       "      <td>117295780</td>\n",
       "    </tr>\n",
       "    <tr>\n",
       "      <th>13</th>\n",
       "      <td>M</td>\n",
       "      <td>110504544</td>\n",
       "    </tr>\n",
       "    <tr>\n",
       "      <th>14</th>\n",
       "      <td>F</td>\n",
       "      <td>95422055</td>\n",
       "    </tr>\n",
       "    <tr>\n",
       "      <th>15</th>\n",
       "      <td>G</td>\n",
       "      <td>91258980</td>\n",
       "    </tr>\n",
       "    <tr>\n",
       "      <th>16</th>\n",
       "      <td>P</td>\n",
       "      <td>90376747</td>\n",
       "    </tr>\n",
       "    <tr>\n",
       "      <th>17</th>\n",
       "      <td>W</td>\n",
       "      <td>79843664</td>\n",
       "    </tr>\n",
       "    <tr>\n",
       "      <th>18</th>\n",
       "      <td>Y</td>\n",
       "      <td>75294515</td>\n",
       "    </tr>\n",
       "    <tr>\n",
       "      <th>19</th>\n",
       "      <td>B</td>\n",
       "      <td>70195826</td>\n",
       "    </tr>\n",
       "    <tr>\n",
       "      <th>20</th>\n",
       "      <td>V</td>\n",
       "      <td>46337161</td>\n",
       "    </tr>\n",
       "    <tr>\n",
       "      <th>21</th>\n",
       "      <td>K</td>\n",
       "      <td>35373464</td>\n",
       "    </tr>\n",
       "    <tr>\n",
       "      <th>22</th>\n",
       "      <td>J</td>\n",
       "      <td>9613410</td>\n",
       "    </tr>\n",
       "    <tr>\n",
       "      <th>23</th>\n",
       "      <td>X</td>\n",
       "      <td>8369915</td>\n",
       "    </tr>\n",
       "    <tr>\n",
       "      <th>24</th>\n",
       "      <td>Z</td>\n",
       "      <td>4975847</td>\n",
       "    </tr>\n",
       "    <tr>\n",
       "      <th>25</th>\n",
       "      <td>Q</td>\n",
       "      <td>4550166</td>\n",
       "    </tr>\n",
       "  </tbody>\n",
       "</table>\n",
       "</div>"
      ],
      "text/plain": [
       "   Letter  Frequency\n",
       "0       E  529117365\n",
       "1       T  390965105\n",
       "2       A  374061888\n",
       "3       O  326627740\n",
       "4       I  320410057\n",
       "5       N  313720540\n",
       "6       S  294300210\n",
       "7       R  277000841\n",
       "8       H  216768975\n",
       "9       L  183996130\n",
       "10      D  169330528\n",
       "11      C  138416451\n",
       "12      U  117295780\n",
       "13      M  110504544\n",
       "14      F   95422055\n",
       "15      G   91258980\n",
       "16      P   90376747\n",
       "17      W   79843664\n",
       "18      Y   75294515\n",
       "19      B   70195826\n",
       "20      V   46337161\n",
       "21      K   35373464\n",
       "22      J    9613410\n",
       "23      X    8369915\n",
       "24      Z    4975847\n",
       "25      Q    4550166"
      ]
     },
     "execution_count": 26,
     "metadata": {},
     "output_type": "execute_result"
    }
   ],
   "source": [
    "letters_df = pd.read_csv(\"english_letters.txt\",sep=\" \", header=None, names=['Letter','Frequency'])\n",
    "letters_df"
   ]
  },
  {
   "cell_type": "code",
   "execution_count": 27,
   "id": "e7db0cbe",
   "metadata": {},
   "outputs": [],
   "source": [
    "letters = letters_df[\"Letter\"].values\n",
    "frequency = letters_df[\"Frequency\"].values.astype(int)\n"
   ]
  },
  {
   "cell_type": "code",
   "execution_count": 28,
   "id": "aa94eb4f",
   "metadata": {},
   "outputs": [],
   "source": [
    "letter_die = Die(faces=letters)"
   ]
  },
  {
   "cell_type": "code",
   "execution_count": 29,
   "id": "8b02c4c3",
   "metadata": {},
   "outputs": [
    {
     "data": {
      "text/html": [
       "<div>\n",
       "<style scoped>\n",
       "    .dataframe tbody tr th:only-of-type {\n",
       "        vertical-align: middle;\n",
       "    }\n",
       "\n",
       "    .dataframe tbody tr th {\n",
       "        vertical-align: top;\n",
       "    }\n",
       "\n",
       "    .dataframe thead th {\n",
       "        text-align: right;\n",
       "    }\n",
       "</style>\n",
       "<table border=\"1\" class=\"dataframe\">\n",
       "  <thead>\n",
       "    <tr style=\"text-align: right;\">\n",
       "      <th></th>\n",
       "      <th>faces</th>\n",
       "      <th>weights</th>\n",
       "    </tr>\n",
       "  </thead>\n",
       "  <tbody>\n",
       "    <tr>\n",
       "      <th>0</th>\n",
       "      <td>E</td>\n",
       "      <td>529117365</td>\n",
       "    </tr>\n",
       "    <tr>\n",
       "      <th>1</th>\n",
       "      <td>T</td>\n",
       "      <td>390965105</td>\n",
       "    </tr>\n",
       "    <tr>\n",
       "      <th>2</th>\n",
       "      <td>A</td>\n",
       "      <td>374061888</td>\n",
       "    </tr>\n",
       "    <tr>\n",
       "      <th>3</th>\n",
       "      <td>O</td>\n",
       "      <td>326627740</td>\n",
       "    </tr>\n",
       "    <tr>\n",
       "      <th>4</th>\n",
       "      <td>I</td>\n",
       "      <td>320410057</td>\n",
       "    </tr>\n",
       "    <tr>\n",
       "      <th>5</th>\n",
       "      <td>N</td>\n",
       "      <td>313720540</td>\n",
       "    </tr>\n",
       "    <tr>\n",
       "      <th>6</th>\n",
       "      <td>S</td>\n",
       "      <td>294300210</td>\n",
       "    </tr>\n",
       "    <tr>\n",
       "      <th>7</th>\n",
       "      <td>R</td>\n",
       "      <td>277000841</td>\n",
       "    </tr>\n",
       "    <tr>\n",
       "      <th>8</th>\n",
       "      <td>H</td>\n",
       "      <td>216768975</td>\n",
       "    </tr>\n",
       "    <tr>\n",
       "      <th>9</th>\n",
       "      <td>L</td>\n",
       "      <td>183996130</td>\n",
       "    </tr>\n",
       "    <tr>\n",
       "      <th>10</th>\n",
       "      <td>D</td>\n",
       "      <td>169330528</td>\n",
       "    </tr>\n",
       "    <tr>\n",
       "      <th>11</th>\n",
       "      <td>C</td>\n",
       "      <td>138416451</td>\n",
       "    </tr>\n",
       "    <tr>\n",
       "      <th>12</th>\n",
       "      <td>U</td>\n",
       "      <td>117295780</td>\n",
       "    </tr>\n",
       "    <tr>\n",
       "      <th>13</th>\n",
       "      <td>M</td>\n",
       "      <td>110504544</td>\n",
       "    </tr>\n",
       "    <tr>\n",
       "      <th>14</th>\n",
       "      <td>F</td>\n",
       "      <td>95422055</td>\n",
       "    </tr>\n",
       "    <tr>\n",
       "      <th>15</th>\n",
       "      <td>G</td>\n",
       "      <td>91258980</td>\n",
       "    </tr>\n",
       "    <tr>\n",
       "      <th>16</th>\n",
       "      <td>P</td>\n",
       "      <td>90376747</td>\n",
       "    </tr>\n",
       "    <tr>\n",
       "      <th>17</th>\n",
       "      <td>W</td>\n",
       "      <td>79843664</td>\n",
       "    </tr>\n",
       "    <tr>\n",
       "      <th>18</th>\n",
       "      <td>Y</td>\n",
       "      <td>75294515</td>\n",
       "    </tr>\n",
       "    <tr>\n",
       "      <th>19</th>\n",
       "      <td>B</td>\n",
       "      <td>70195826</td>\n",
       "    </tr>\n",
       "    <tr>\n",
       "      <th>20</th>\n",
       "      <td>V</td>\n",
       "      <td>46337161</td>\n",
       "    </tr>\n",
       "    <tr>\n",
       "      <th>21</th>\n",
       "      <td>K</td>\n",
       "      <td>35373464</td>\n",
       "    </tr>\n",
       "    <tr>\n",
       "      <th>22</th>\n",
       "      <td>J</td>\n",
       "      <td>9613410</td>\n",
       "    </tr>\n",
       "    <tr>\n",
       "      <th>23</th>\n",
       "      <td>X</td>\n",
       "      <td>8369915</td>\n",
       "    </tr>\n",
       "    <tr>\n",
       "      <th>24</th>\n",
       "      <td>Z</td>\n",
       "      <td>4975847</td>\n",
       "    </tr>\n",
       "    <tr>\n",
       "      <th>25</th>\n",
       "      <td>Q</td>\n",
       "      <td>4550166</td>\n",
       "    </tr>\n",
       "  </tbody>\n",
       "</table>\n",
       "</div>"
      ],
      "text/plain": [
       "   faces    weights\n",
       "0      E  529117365\n",
       "1      T  390965105\n",
       "2      A  374061888\n",
       "3      O  326627740\n",
       "4      I  320410057\n",
       "5      N  313720540\n",
       "6      S  294300210\n",
       "7      R  277000841\n",
       "8      H  216768975\n",
       "9      L  183996130\n",
       "10     D  169330528\n",
       "11     C  138416451\n",
       "12     U  117295780\n",
       "13     M  110504544\n",
       "14     F   95422055\n",
       "15     G   91258980\n",
       "16     P   90376747\n",
       "17     W   79843664\n",
       "18     Y   75294515\n",
       "19     B   70195826\n",
       "20     V   46337161\n",
       "21     K   35373464\n",
       "22     J    9613410\n",
       "23     X    8369915\n",
       "24     Z    4975847\n",
       "25     Q    4550166"
      ]
     },
     "execution_count": 29,
     "metadata": {},
     "output_type": "execute_result"
    }
   ],
   "source": [
    "#letter_die.die_df['weights'] = frequencies\n",
    "letter_die.die_df['weights'] = frequency\n",
    "letter_die.show()\n",
    "\n"
   ]
  },
  {
   "cell_type": "markdown",
   "id": "88e2e14a-6223-470a-a2c8-bca1120d7a5b",
   "metadata": {},
   "source": [
    "Task 2. Play a game involving $4$ of these dice with $1000$ rolls.\n",
    "\n",
    "- Game play method properly called (1)."
   ]
  },
  {
   "cell_type": "code",
   "execution_count": 30,
   "id": "2ae087cc-936d-4f1e-bddb-a7c179d139e0",
   "metadata": {},
   "outputs": [
    {
     "data": {
      "text/html": [
       "<div>\n",
       "<style scoped>\n",
       "    .dataframe tbody tr th:only-of-type {\n",
       "        vertical-align: middle;\n",
       "    }\n",
       "\n",
       "    .dataframe tbody tr th {\n",
       "        vertical-align: top;\n",
       "    }\n",
       "\n",
       "    .dataframe thead th {\n",
       "        text-align: right;\n",
       "    }\n",
       "</style>\n",
       "<table border=\"1\" class=\"dataframe\">\n",
       "  <thead>\n",
       "    <tr style=\"text-align: right;\">\n",
       "      <th></th>\n",
       "      <th>Die_0</th>\n",
       "      <th>Die_1</th>\n",
       "      <th>Die_2</th>\n",
       "      <th>Die_3</th>\n",
       "    </tr>\n",
       "  </thead>\n",
       "  <tbody>\n",
       "    <tr>\n",
       "      <th>0</th>\n",
       "      <td>O</td>\n",
       "      <td>T</td>\n",
       "      <td>R</td>\n",
       "      <td>A</td>\n",
       "    </tr>\n",
       "    <tr>\n",
       "      <th>1</th>\n",
       "      <td>H</td>\n",
       "      <td>P</td>\n",
       "      <td>V</td>\n",
       "      <td>Y</td>\n",
       "    </tr>\n",
       "    <tr>\n",
       "      <th>2</th>\n",
       "      <td>A</td>\n",
       "      <td>O</td>\n",
       "      <td>O</td>\n",
       "      <td>I</td>\n",
       "    </tr>\n",
       "    <tr>\n",
       "      <th>3</th>\n",
       "      <td>L</td>\n",
       "      <td>P</td>\n",
       "      <td>O</td>\n",
       "      <td>M</td>\n",
       "    </tr>\n",
       "    <tr>\n",
       "      <th>4</th>\n",
       "      <td>N</td>\n",
       "      <td>O</td>\n",
       "      <td>T</td>\n",
       "      <td>E</td>\n",
       "    </tr>\n",
       "    <tr>\n",
       "      <th>...</th>\n",
       "      <td>...</td>\n",
       "      <td>...</td>\n",
       "      <td>...</td>\n",
       "      <td>...</td>\n",
       "    </tr>\n",
       "    <tr>\n",
       "      <th>995</th>\n",
       "      <td>N</td>\n",
       "      <td>L</td>\n",
       "      <td>E</td>\n",
       "      <td>F</td>\n",
       "    </tr>\n",
       "    <tr>\n",
       "      <th>996</th>\n",
       "      <td>E</td>\n",
       "      <td>L</td>\n",
       "      <td>E</td>\n",
       "      <td>P</td>\n",
       "    </tr>\n",
       "    <tr>\n",
       "      <th>997</th>\n",
       "      <td>O</td>\n",
       "      <td>A</td>\n",
       "      <td>R</td>\n",
       "      <td>N</td>\n",
       "    </tr>\n",
       "    <tr>\n",
       "      <th>998</th>\n",
       "      <td>G</td>\n",
       "      <td>R</td>\n",
       "      <td>G</td>\n",
       "      <td>E</td>\n",
       "    </tr>\n",
       "    <tr>\n",
       "      <th>999</th>\n",
       "      <td>T</td>\n",
       "      <td>A</td>\n",
       "      <td>E</td>\n",
       "      <td>N</td>\n",
       "    </tr>\n",
       "  </tbody>\n",
       "</table>\n",
       "<p>1000 rows × 4 columns</p>\n",
       "</div>"
      ],
      "text/plain": [
       "    Die_0 Die_1 Die_2 Die_3\n",
       "0       O     T     R     A\n",
       "1       H     P     V     Y\n",
       "2       A     O     O     I\n",
       "3       L     P     O     M\n",
       "4       N     O     T     E\n",
       "..    ...   ...   ...   ...\n",
       "995     N     L     E     F\n",
       "996     E     L     E     P\n",
       "997     O     A     R     N\n",
       "998     G     R     G     E\n",
       "999     T     A     E     N\n",
       "\n",
       "[1000 rows x 4 columns]"
      ]
     },
     "execution_count": 30,
     "metadata": {},
     "output_type": "execute_result"
    }
   ],
   "source": [
    "letters_game = Game(dice=[letter_die,letter_die,letter_die,letter_die])\n",
    "letters_game.play(num_rolls=1000)\n",
    "letters_game.show()"
   ]
  },
  {
   "cell_type": "markdown",
   "id": "3b9ff800-bf1f-4f66-9d7f-ff57a648e9f0",
   "metadata": {},
   "source": [
    "Task 3. Determine how many permutations in your results are actual English words, based on the vocabulary found in `scrabble_words.txt`.\n",
    "\n",
    "- Use permutation method (1).\n",
    "- Get count as difference between permutations and vocabulary (1)."
   ]
  },
  {
   "cell_type": "code",
   "execution_count": 31,
   "id": "ed1c7fa0-cfa3-4cf4-9fd0-9f84b86b0f64",
   "metadata": {},
   "outputs": [],
   "source": [
    "#First load in the scrabble words text file\n",
    "scrabble_words = pd.read_csv('scrabble_words.txt', header=None, names=['Words'])\n",
    "scrabble_words_df = set(scrabble_words[\"Words\"].str.strip())"
   ]
  },
  {
   "cell_type": "code",
   "execution_count": 32,
   "id": "aec19ddc",
   "metadata": {},
   "outputs": [],
   "source": [
    "letter_game_analyzer = Analyzer(letters_game)"
   ]
  },
  {
   "cell_type": "code",
   "execution_count": 33,
   "id": "1a18e108",
   "metadata": {},
   "outputs": [],
   "source": [
    "letter_game_perms = letter_game_analyzer.permutation_counts()"
   ]
  },
  {
   "cell_type": "code",
   "execution_count": 34,
   "id": "7fd6ddeb",
   "metadata": {},
   "outputs": [],
   "source": [
    "#use the loop to see if perms are actual english words\n",
    "actual_words_count = 0\n",
    "total_permutations = letter_game_perms.shape[0]\n",
    "\n",
    "for permutation in letter_game_perms.index:\n",
    "    perm_str = ''.join(permutation)\n",
    "    if permutation in scrabble_words_df:\n",
    "        actual_words_count += letter_game_perms[permutation]\n"
   ]
  },
  {
   "cell_type": "code",
   "execution_count": 35,
   "id": "cf06c935",
   "metadata": {},
   "outputs": [],
   "source": [
    "#Calculate Dif \n",
    "invalid_words_count = total_permutations - actual_words_count"
   ]
  },
  {
   "cell_type": "code",
   "execution_count": 36,
   "id": "ad83a13f",
   "metadata": {},
   "outputs": [],
   "source": [
    "total_rolls=1000\n",
    "valid_permutations= total_rolls-invalid_words_count"
   ]
  },
  {
   "cell_type": "code",
   "execution_count": 37,
   "id": "1babcc2e",
   "metadata": {},
   "outputs": [
    {
     "name": "stdout",
     "output_type": "stream",
     "text": [
      "Invalid permutations count: 995\n",
      "Permutations that are apart of English Language: 5\n"
     ]
    }
   ],
   "source": [
    "print(f\"Invalid permutations count: {invalid_words_count}\")\n",
    "print(f\"Permutations that are apart of English Language: {valid_permutations}\")"
   ]
  },
  {
   "cell_type": "markdown",
   "id": "fcf068cf-381a-4b3e-ac3a-0510eb4dbdb0",
   "metadata": {},
   "source": [
    "Task 4. Repeat steps #2 and #3, this time with $5$ dice. How many actual words does this produce? Which produces more?\n",
    "\n",
    "- Successfully repreats steps (1).\n",
    "- Identifies parameter with most found words (1)."
   ]
  },
  {
   "cell_type": "code",
   "execution_count": 38,
   "id": "01b06963",
   "metadata": {},
   "outputs": [],
   "source": [
    "new_letter_game = Game(dice=[letter_die,letter_die,letter_die,letter_die,letter_die])\n",
    "new_letter_game.play(num_rolls=1000)\n"
   ]
  },
  {
   "cell_type": "code",
   "execution_count": 39,
   "id": "88bc8c45",
   "metadata": {},
   "outputs": [],
   "source": [
    "new_letter_game_analyzer = Analyzer(new_letter_game)"
   ]
  },
  {
   "cell_type": "code",
   "execution_count": 40,
   "id": "53e730a5",
   "metadata": {},
   "outputs": [],
   "source": [
    "new_letter_game_perms = new_letter_game_analyzer.permutation_counts()"
   ]
  },
  {
   "cell_type": "code",
   "execution_count": 41,
   "id": "4384f684",
   "metadata": {},
   "outputs": [],
   "source": [
    "new_actual_words_count = 0\n",
    "new_total_permutations = new_letter_game_perms.shape[0]\n",
    "\n",
    "for permutation in new_letter_game_perms.index:\n",
    "    perm_str = ''.join(permutation)\n",
    "    if permutation in scrabble_words_df:\n",
    "        new_actual_words_count += new_letter_game_perms[permutation]\n",
    "\n",
    "\n",
    "\n"
   ]
  },
  {
   "cell_type": "code",
   "execution_count": 42,
   "id": "e469a26b",
   "metadata": {},
   "outputs": [],
   "source": [
    "new_invalid_words_count = new_total_permutations - new_actual_words_count"
   ]
  },
  {
   "cell_type": "code",
   "execution_count": 43,
   "id": "108b2d27",
   "metadata": {},
   "outputs": [],
   "source": [
    "total_rolls=1000\n",
    "new_valid_permutations= total_rolls-new_invalid_words_count"
   ]
  },
  {
   "cell_type": "code",
   "execution_count": 44,
   "id": "294ea40a",
   "metadata": {},
   "outputs": [
    {
     "name": "stdout",
     "output_type": "stream",
     "text": [
      "Invalid permutations count: 999\n",
      "Permutations that are apart of English Language: 1\n"
     ]
    }
   ],
   "source": [
    "print(f\"Invalid permutations count: {new_invalid_words_count}\")\n",
    "print(f\"Permutations that are apart of English Language: {new_valid_permutations}\")"
   ]
  }
 ],
 "metadata": {
  "kernelspec": {
   "display_name": "Python 3",
   "language": "python",
   "name": "python3"
  },
  "language_info": {
   "codemirror_mode": {
    "name": "ipython",
    "version": 3
   },
   "file_extension": ".py",
   "mimetype": "text/x-python",
   "name": "python",
   "nbconvert_exporter": "python",
   "pygments_lexer": "ipython3",
   "version": "3.12.2"
  },
  "toc-autonumbering": true,
  "widgets": {
   "application/vnd.jupyter.widget-state+json": {
    "state": {},
    "version_major": 2,
    "version_minor": 0
   }
  }
 },
 "nbformat": 4,
 "nbformat_minor": 5
}
